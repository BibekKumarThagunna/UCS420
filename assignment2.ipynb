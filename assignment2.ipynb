{
 "cells": [
  {
   "cell_type": "markdown",
   "metadata": {},
   "source": [
    "**1.Create a List L that is defined as= [10, 20, 30, 40, 50, 60, 70, 80].\n",
    "i. WAP to add 200 and 300 to L.\n",
    "ii. WAP to remove 10 and 30 from L.\n",
    "iii. WAP to sort L in ascending order.\n",
    "iv. WAP to sort L in descending order.**"
   ]
  },
  {
   "cell_type": "code",
   "execution_count": 1,
   "metadata": {},
   "outputs": [
    {
     "name": "stdout",
     "output_type": "stream",
     "text": [
      "Updated List after adding 200 and 300: [20, 40, 50, 60, 70, 80, 200, 300]\n",
      "List sorted in ascending order: [20, 40, 50, 60, 70, 80, 200, 300]\n",
      "List sorted in descending order: [300, 200, 80, 70, 60, 50, 40, 20]\n"
     ]
    }
   ],
   "source": [
    "# Define the initial list\n",
    "L = [10, 20, 30, 40, 50, 60, 70, 80]\n",
    "\n",
    "# i. Add 200 and 300 to L\n",
    "L.append(200)\n",
    "L.append(300)\n",
    "\n",
    "# ii. Remove 10 and 30 from L\n",
    "L.remove(10)\n",
    "L.remove(30)\n",
    "\n",
    "# iii. Sort L in ascending order\n",
    "L_ascending = sorted(L)\n",
    "\n",
    "# iv. Sort L in descending order\n",
    "L_descending = sorted(L, reverse=True)\n",
    "\n",
    "# Display results\n",
    "print(\"Updated List after adding 200 and 300:\", L)\n",
    "print(\"List sorted in ascending order:\", L_ascending)\n",
    "print(\"List sorted in descending order:\", L_descending)\n"
   ]
  },
  {
   "cell_type": "markdown",
   "metadata": {},
   "source": [
    "**2.Create a tuple of marks scored as scores = (45, 89.5, 76, 45.4, 89, 92, 58, 45) and\n",
    "perform the following operations using tuple functions:\n",
    "i. Identify the highest score and its index in the tuple.\n",
    "ii. Find the lowest score and count how many times it appears.\n",
    "iii. Reverse the tuple and return it as a list.\n",
    "iv. Check if a specific score ‘76’ (input by the user) is present in the tuple and\n",
    "print its first occurrence index, or a message saying it’s not present.**"
   ]
  },
  {
   "cell_type": "code",
   "execution_count": 2,
   "metadata": {},
   "outputs": [
    {
     "name": "stdout",
     "output_type": "stream",
     "text": [
      "Highest score: 92 at index 5\n",
      "Lowest score: 45 appears 2 times\n",
      "Reversed tuple as a list: [45, 58, 92, 89, 45.4, 76, 89.5, 45]\n",
      "The score 76 is present at index 2.\n"
     ]
    }
   ],
   "source": [
    "scores = (45, 89.5, 76, 45.4, 89, 92, 58, 45)\n",
    "\n",
    "highest_score = max(scores)\n",
    "highest_score_index = scores.index(highest_score)\n",
    "\n",
    "lowest_score = min(scores)\n",
    "lowest_score_count = scores.count(lowest_score)\n",
    "\n",
    "reversed_scores = list(scores[::-1])\n",
    "\n",
    "specific_score = 76\n",
    "if specific_score in scores:\n",
    "    specific_score_index = scores.index(specific_score)\n",
    "    message = f\"The score {specific_score} is present at index {specific_score_index}.\"\n",
    "else:\n",
    "    message = f\"The score {specific_score} is not present in the tuple.\"\n",
    "\n",
    "print(\"Highest score:\", highest_score, \"at index\", highest_score_index)\n",
    "print(\"Lowest score:\", lowest_score, \"appears\", lowest_score_count, \"times\")\n",
    "print(\"Reversed tuple as a list:\", reversed_scores)\n",
    "print(message)\n"
   ]
  },
  {
   "cell_type": "markdown",
   "metadata": {},
   "source": [
    "**3. WAP to create a list of 100 random numbers between 100 and 900. Count and print\n",
    "the:\n",
    "i. All odd numbers\n",
    "ii. All even numbers\n",
    "iii. All prime numbers**"
   ]
  },
  {
   "cell_type": "code",
   "execution_count": 3,
   "metadata": {},
   "outputs": [
    {
     "name": "stdout",
     "output_type": "stream",
     "text": [
      "Odd numbers: [483, 565, 767, 569, 773, 597, 659, 583, 151, 437, 821, 407, 457, 333, 189, 635, 811, 289, 233, 519, 685, 305, 649, 183, 253, 497, 895, 639, 471, 883, 359, 251, 205, 289, 265, 611, 461, 699, 589, 259, 759, 353, 591, 493]\n",
      "Count of odd numbers: 44\n",
      "Even numbers: [530, 576, 648, 636, 444, 372, 472, 156, 512, 464, 644, 818, 276, 298, 108, 860, 122, 160, 106, 184, 710, 778, 208, 440, 114, 346, 266, 252, 310, 588, 448, 468, 104, 558, 314, 604, 558, 820, 166, 642, 240, 456, 520, 162, 666, 348, 484, 656, 776, 356, 436, 802, 350, 598, 320, 372]\n",
      "Count of even numbers: 56\n",
      "Prime numbers: [569, 773, 659, 151, 821, 457, 811, 233, 883, 359, 251, 461, 353]\n",
      "Count of prime numbers: 13\n"
     ]
    }
   ],
   "source": [
    "import random\n",
    "\n",
    "def is_prime(num):\n",
    "    if num < 2:\n",
    "        return False\n",
    "    for i in range(2, int(num**0.5) + 1):\n",
    "        if num % i == 0:\n",
    "            return False\n",
    "    return True\n",
    "\n",
    "random_numbers = [random.randint(100, 900) for _ in range(100)]\n",
    "\n",
    "odd_numbers = [num for num in random_numbers if num % 2 != 0]\n",
    "even_numbers = [num for num in random_numbers if num % 2 == 0]\n",
    "prime_numbers = [num for num in random_numbers if is_prime(num)]\n",
    "\n",
    "print(\"Odd numbers:\", odd_numbers)\n",
    "print(\"Count of odd numbers:\", len(odd_numbers))\n",
    "print(\"Even numbers:\", even_numbers)\n",
    "print(\"Count of even numbers:\", len(even_numbers))\n",
    "print(\"Prime numbers:\", prime_numbers)\n",
    "print(\"Count of prime numbers:\", len(prime_numbers))\n"
   ]
  },
  {
   "cell_type": "markdown",
   "metadata": {},
   "source": [
    "**4. Consider the following two sets, A and B, representing scores of two teams in multiple\n",
    "matches. A = {34, 56, 78, 90} and B = {78, 45, 90, 23}\n",
    "WAP to perform the following operations using set functions:\n",
    "i. Find the unique scores achieved by both teams (union of sets).\n",
    "ii. Identify the scores that are common to both teams (intersection of sets).\n",
    "iii. Find the scores that are exclusive to each team (symmetric difference).\n",
    "iv. Check if the scores of team A are a subset of team B, and if team B's scores are\n",
    "a superset of team A.\n",
    "v. Remove a specific score X (input by the user) from set A if it exists. If not, print\n",
    "a message saying it is not present.**"
   ]
  },
  {
   "cell_type": "code",
   "execution_count": 4,
   "metadata": {},
   "outputs": [
    {
     "name": "stdout",
     "output_type": "stream",
     "text": [
      "Unique scores (union): {34, 45, 78, 23, 56, 90}\n",
      "Common scores (intersection): {90, 78}\n",
      "Exclusive scores (symmetric difference): {34, 45, 23, 56}\n",
      "Is team A's scores a subset of team B's? False\n",
      "Is team B's scores a superset of team A's? False\n",
      "The score 56 has been removed from set A.\n",
      "Updated set A: {34, 90, 78}\n"
     ]
    }
   ],
   "source": [
    "A = {34, 56, 78, 90}\n",
    "B = {78, 45, 90, 23}\n",
    "\n",
    "unique_scores = A.union(B)\n",
    "common_scores = A.intersection(B)\n",
    "exclusive_scores = A.symmetric_difference(B)\n",
    "\n",
    "is_subset = A.issubset(B)\n",
    "is_superset = B.issuperset(A)\n",
    "\n",
    "X = int(input(\"Enter a score to remove from set A: \"))\n",
    "if X in A:\n",
    "    A.remove(X)\n",
    "    message = f\"The score {X} has been removed from set A.\"\n",
    "else:\n",
    "    message = f\"The score {X} is not present in set A.\"\n",
    "\n",
    "print(\"Unique scores (union):\", unique_scores)\n",
    "print(\"Common scores (intersection):\", common_scores)\n",
    "print(\"Exclusive scores (symmetric difference):\", exclusive_scores)\n",
    "print(f\"Is team A's scores a subset of team B's? {is_subset}\")\n",
    "print(f\"Is team B's scores a superset of team A's? {is_superset}\")\n",
    "print(message)\n",
    "print(\"Updated set A:\", A)\n"
   ]
  },
  {
   "cell_type": "markdown",
   "metadata": {},
   "source": [
    "**5.Write a program to rename a key city to a location in the following dictionary.\n",
    "sample_dict = {\n",
    "    \"name\": \"Kelly\",\n",
    "    \"age\": 25,\n",
    "    \"salary\": 8000,\n",
    "    \"city\": \"New york\"\n",
    "}**"
   ]
  },
  {
   "cell_type": "code",
   "execution_count": 5,
   "metadata": {},
   "outputs": [
    {
     "name": "stdout",
     "output_type": "stream",
     "text": [
      "{'name': 'Kelly', 'age': 25, 'salary': 8000, 'location': 'New york'}\n"
     ]
    }
   ],
   "source": [
    "sample_dict = {\n",
    "    \"name\": \"Kelly\",\n",
    "    \"age\": 25,\n",
    "    \"salary\": 8000,\n",
    "    \"city\": \"New york\"\n",
    "}\n",
    "\n",
    "sample_dict[\"location\"] = sample_dict.pop(\"city\")\n",
    "\n",
    "print(sample_dict)\n"
   ]
  }
 ],
 "metadata": {
  "kernelspec": {
   "display_name": "Python 3",
   "language": "python",
   "name": "python3"
  },
  "language_info": {
   "codemirror_mode": {
    "name": "ipython",
    "version": 3
   },
   "file_extension": ".py",
   "mimetype": "text/x-python",
   "name": "python",
   "nbconvert_exporter": "python",
   "pygments_lexer": "ipython3",
   "version": "3.13.1"
  }
 },
 "nbformat": 4,
 "nbformat_minor": 2
}
